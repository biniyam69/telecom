{
 "cells": [
  {
   "cell_type": "code",
   "execution_count": 1,
   "id": "5d6f7f45-ede4-443a-8c7c-309c49bb427f",
   "metadata": {
    "ExecuteTime": {
     "end_time": "2023-12-16T08:42:38.602641206Z",
     "start_time": "2023-12-16T08:42:38.402576836Z"
    }
   },
   "outputs": [],
   "source": [
    "#import everything necessary for eda\n",
    "\n",
    "import pandas as pd\n",
    "import numpy as np\n",
    "import matplotlib.pyplot as plt\n",
    "import seaborn as sns\n",
    "import os\n",
    "import sys\n",
    "import warnings\n",
    "warnings.filterwarnings('ignore')\n",
    "\n",
    "sys.path.append('../helpers/')\n",
    "\n",
    "from data import Database"
   ]
  },
  {
   "cell_type": "code",
   "execution_count": 2,
   "id": "66106ab6-28b5-4a46-8764-a9107f260ed3",
   "metadata": {
    "ExecuteTime": {
     "end_time": "2023-12-16T08:42:45.716597445Z",
     "start_time": "2023-12-16T08:42:42.775544200Z"
    }
   },
   "outputs": [
    {
     "data": {
      "text/plain": "      Bearer Id            Start  Start ms              End  End ms  \\\n0  7.349883e+18  4/23/2019 13:56     642.0   4/25/2019 2:06    53.0   \n1  1.311448e+19  4/23/2019 14:00     501.0  4/24/2019 23:17   453.0   \n2  1.311448e+19  4/23/2019 14:00     507.0  4/24/2019 23:17   453.0   \n3  1.311448e+19  4/23/2019 14:00     744.0   4/25/2019 0:24   330.0   \n4  1.311448e+19  4/23/2019 14:01     369.0   4/25/2019 4:13   905.0   \n\n   Dur. (ms)          IMSI  MSISDN/Number          IMEI Last Location Name  \\\n0   130220.0  2.082003e+14   3.368112e+10  3.572961e+13            T10006B   \n1   119804.0  2.082014e+14   3.369966e+10  3.561431e+13            T92938B   \n2   119781.0  2.082014e+14   3.369966e+10  3.561431e+13            T92938B   \n3   123787.0  2.082017e+14   3.362404e+10  8.629340e+13            D21059A   \n4   137523.0  2.082017e+14   3.366612e+10  3.538111e+13            D42243B   \n\n   ...  Youtube DL (Bytes)  Youtube UL (Bytes)  Netflix DL (Bytes)  \\\n0  ...          21500768.0          12101768.0          12226975.0   \n1  ...           7277265.0          14808877.0           5404356.0   \n2  ...          10232699.0           8551438.0           8528398.0   \n3  ...          15007252.0          16673992.0          14089357.0   \n4  ...           9633967.0          17836471.0          22432445.0   \n\n   Netflix UL (Bytes)  Gaming DL (Bytes)  Gaming UL (Bytes)  Other DL (Bytes)  \\\n0          16511157.0        340225685.0          6951608.0       483022848.0   \n1          17848389.0        281827903.0          3255023.0       746150700.0   \n2          19632728.0         73444975.0          8167950.0       787793727.0   \n3           6924105.0        174894914.0            41507.0       345556220.0   \n4             11400.0        623985913.0         10539036.0       706817241.0   \n\n   Other UL (Bytes)  Total UL (Bytes)  Total DL (Bytes)  \n0        13524725.0        50864502.0       388912579.0  \n1         1475289.0        38549811.0       305633791.0  \n2        10773216.0        49161715.0       105009018.0  \n3          837674.0        28422142.0       209975300.0  \n4        11317378.0        43951635.0       661274286.0  \n\n[5 rows x 55 columns]",
      "text/html": "<div>\n<style scoped>\n    .dataframe tbody tr th:only-of-type {\n        vertical-align: middle;\n    }\n\n    .dataframe tbody tr th {\n        vertical-align: top;\n    }\n\n    .dataframe thead th {\n        text-align: right;\n    }\n</style>\n<table border=\"1\" class=\"dataframe\">\n  <thead>\n    <tr style=\"text-align: right;\">\n      <th></th>\n      <th>Bearer Id</th>\n      <th>Start</th>\n      <th>Start ms</th>\n      <th>End</th>\n      <th>End ms</th>\n      <th>Dur. (ms)</th>\n      <th>IMSI</th>\n      <th>MSISDN/Number</th>\n      <th>IMEI</th>\n      <th>Last Location Name</th>\n      <th>...</th>\n      <th>Youtube DL (Bytes)</th>\n      <th>Youtube UL (Bytes)</th>\n      <th>Netflix DL (Bytes)</th>\n      <th>Netflix UL (Bytes)</th>\n      <th>Gaming DL (Bytes)</th>\n      <th>Gaming UL (Bytes)</th>\n      <th>Other DL (Bytes)</th>\n      <th>Other UL (Bytes)</th>\n      <th>Total UL (Bytes)</th>\n      <th>Total DL (Bytes)</th>\n    </tr>\n  </thead>\n  <tbody>\n    <tr>\n      <th>0</th>\n      <td>7.349883e+18</td>\n      <td>4/23/2019 13:56</td>\n      <td>642.0</td>\n      <td>4/25/2019 2:06</td>\n      <td>53.0</td>\n      <td>130220.0</td>\n      <td>2.082003e+14</td>\n      <td>3.368112e+10</td>\n      <td>3.572961e+13</td>\n      <td>T10006B</td>\n      <td>...</td>\n      <td>21500768.0</td>\n      <td>12101768.0</td>\n      <td>12226975.0</td>\n      <td>16511157.0</td>\n      <td>340225685.0</td>\n      <td>6951608.0</td>\n      <td>483022848.0</td>\n      <td>13524725.0</td>\n      <td>50864502.0</td>\n      <td>388912579.0</td>\n    </tr>\n    <tr>\n      <th>1</th>\n      <td>1.311448e+19</td>\n      <td>4/23/2019 14:00</td>\n      <td>501.0</td>\n      <td>4/24/2019 23:17</td>\n      <td>453.0</td>\n      <td>119804.0</td>\n      <td>2.082014e+14</td>\n      <td>3.369966e+10</td>\n      <td>3.561431e+13</td>\n      <td>T92938B</td>\n      <td>...</td>\n      <td>7277265.0</td>\n      <td>14808877.0</td>\n      <td>5404356.0</td>\n      <td>17848389.0</td>\n      <td>281827903.0</td>\n      <td>3255023.0</td>\n      <td>746150700.0</td>\n      <td>1475289.0</td>\n      <td>38549811.0</td>\n      <td>305633791.0</td>\n    </tr>\n    <tr>\n      <th>2</th>\n      <td>1.311448e+19</td>\n      <td>4/23/2019 14:00</td>\n      <td>507.0</td>\n      <td>4/24/2019 23:17</td>\n      <td>453.0</td>\n      <td>119781.0</td>\n      <td>2.082014e+14</td>\n      <td>3.369966e+10</td>\n      <td>3.561431e+13</td>\n      <td>T92938B</td>\n      <td>...</td>\n      <td>10232699.0</td>\n      <td>8551438.0</td>\n      <td>8528398.0</td>\n      <td>19632728.0</td>\n      <td>73444975.0</td>\n      <td>8167950.0</td>\n      <td>787793727.0</td>\n      <td>10773216.0</td>\n      <td>49161715.0</td>\n      <td>105009018.0</td>\n    </tr>\n    <tr>\n      <th>3</th>\n      <td>1.311448e+19</td>\n      <td>4/23/2019 14:00</td>\n      <td>744.0</td>\n      <td>4/25/2019 0:24</td>\n      <td>330.0</td>\n      <td>123787.0</td>\n      <td>2.082017e+14</td>\n      <td>3.362404e+10</td>\n      <td>8.629340e+13</td>\n      <td>D21059A</td>\n      <td>...</td>\n      <td>15007252.0</td>\n      <td>16673992.0</td>\n      <td>14089357.0</td>\n      <td>6924105.0</td>\n      <td>174894914.0</td>\n      <td>41507.0</td>\n      <td>345556220.0</td>\n      <td>837674.0</td>\n      <td>28422142.0</td>\n      <td>209975300.0</td>\n    </tr>\n    <tr>\n      <th>4</th>\n      <td>1.311448e+19</td>\n      <td>4/23/2019 14:01</td>\n      <td>369.0</td>\n      <td>4/25/2019 4:13</td>\n      <td>905.0</td>\n      <td>137523.0</td>\n      <td>2.082017e+14</td>\n      <td>3.366612e+10</td>\n      <td>3.538111e+13</td>\n      <td>D42243B</td>\n      <td>...</td>\n      <td>9633967.0</td>\n      <td>17836471.0</td>\n      <td>22432445.0</td>\n      <td>11400.0</td>\n      <td>623985913.0</td>\n      <td>10539036.0</td>\n      <td>706817241.0</td>\n      <td>11317378.0</td>\n      <td>43951635.0</td>\n      <td>661274286.0</td>\n    </tr>\n  </tbody>\n</table>\n<p>5 rows × 55 columns</p>\n</div>"
     },
     "execution_count": 2,
     "metadata": {},
     "output_type": "execute_result"
    }
   ],
   "source": [
    "db = Database(host=\"localhost\", database=\"telecom\", user=\"postgres\", password=\"heisenberg\")\n",
    "df = db.read_table_to_dataframe('xdr_data')\n",
    "df.head()"
   ]
  },
  {
   "cell_type": "code",
   "execution_count": 3,
   "id": "825868bf-82bb-40be-a85b-5429a9e0acbe",
   "metadata": {
    "ExecuteTime": {
     "end_time": "2023-12-16T08:43:55.637797546Z",
     "start_time": "2023-12-16T08:43:55.549948383Z"
    }
   },
   "outputs": [
    {
     "name": "stdout",
     "output_type": "stream",
     "text": [
      "<class 'pandas.core.frame.DataFrame'>\n",
      "RangeIndex: 150001 entries, 0 to 150000\n",
      "Data columns (total 55 columns):\n",
      " #   Column                                    Non-Null Count   Dtype  \n",
      "---  ------                                    --------------   -----  \n",
      " 0   Bearer Id                                 149010 non-null  float64\n",
      " 1   Start                                     150000 non-null  object \n",
      " 2   Start ms                                  150000 non-null  float64\n",
      " 3   End                                       150000 non-null  object \n",
      " 4   End ms                                    150000 non-null  float64\n",
      " 5   Dur. (ms)                                 150000 non-null  float64\n",
      " 6   IMSI                                      149431 non-null  float64\n",
      " 7   MSISDN/Number                             148935 non-null  float64\n",
      " 8   IMEI                                      149429 non-null  float64\n",
      " 9   Last Location Name                        148848 non-null  object \n",
      " 10  Avg RTT DL (ms)                           122172 non-null  float64\n",
      " 11  Avg RTT UL (ms)                           122189 non-null  float64\n",
      " 12  Avg Bearer TP DL (kbps)                   150000 non-null  float64\n",
      " 13  Avg Bearer TP UL (kbps)                   150000 non-null  float64\n",
      " 14  TCP DL Retrans. Vol (Bytes)               61855 non-null   float64\n",
      " 15  TCP UL Retrans. Vol (Bytes)               53352 non-null   float64\n",
      " 16  DL TP < 50 Kbps (%)                       149247 non-null  float64\n",
      " 17  50 Kbps < DL TP < 250 Kbps (%)            149247 non-null  float64\n",
      " 18  250 Kbps < DL TP < 1 Mbps (%)             149247 non-null  float64\n",
      " 19  DL TP > 1 Mbps (%)                        149247 non-null  float64\n",
      " 20  UL TP < 10 Kbps (%)                       149209 non-null  float64\n",
      " 21  10 Kbps < UL TP < 50 Kbps (%)             149209 non-null  float64\n",
      " 22  50 Kbps < UL TP < 300 Kbps (%)            149209 non-null  float64\n",
      " 23  UL TP > 300 Kbps (%)                      149209 non-null  float64\n",
      " 24  HTTP DL (Bytes)                           68527 non-null   float64\n",
      " 25  HTTP UL (Bytes)                           68191 non-null   float64\n",
      " 26  Activity Duration DL (ms)                 150000 non-null  float64\n",
      " 27  Activity Duration UL (ms)                 150000 non-null  float64\n",
      " 28  Dur. (ms).1                               150000 non-null  float64\n",
      " 29  Handset Manufacturer                      149429 non-null  object \n",
      " 30  Handset Type                              149429 non-null  object \n",
      " 31  Nb of sec with 125000B < Vol DL           52463 non-null   float64\n",
      " 32  Nb of sec with 1250B < Vol UL < 6250B     57107 non-null   float64\n",
      " 33  Nb of sec with 31250B < Vol DL < 125000B  56415 non-null   float64\n",
      " 34  Nb of sec with 37500B < Vol UL            19747 non-null   float64\n",
      " 35  Nb of sec with 6250B < Vol DL < 31250B    61684 non-null   float64\n",
      " 36  Nb of sec with 6250B < Vol UL < 37500B    38158 non-null   float64\n",
      " 37  Nb of sec with Vol DL < 6250B             149246 non-null  float64\n",
      " 38  Nb of sec with Vol UL < 1250B             149208 non-null  float64\n",
      " 39  Social Media DL (Bytes)                   150001 non-null  float64\n",
      " 40  Social Media UL (Bytes)                   150001 non-null  float64\n",
      " 41  Google DL (Bytes)                         150001 non-null  float64\n",
      " 42  Google UL (Bytes)                         150001 non-null  float64\n",
      " 43  Email DL (Bytes)                          150001 non-null  float64\n",
      " 44  Email UL (Bytes)                          150001 non-null  float64\n",
      " 45  Youtube DL (Bytes)                        150001 non-null  float64\n",
      " 46  Youtube UL (Bytes)                        150001 non-null  float64\n",
      " 47  Netflix DL (Bytes)                        150001 non-null  float64\n",
      " 48  Netflix UL (Bytes)                        150001 non-null  float64\n",
      " 49  Gaming DL (Bytes)                         150001 non-null  float64\n",
      " 50  Gaming UL (Bytes)                         150001 non-null  float64\n",
      " 51  Other DL (Bytes)                          150001 non-null  float64\n",
      " 52  Other UL (Bytes)                          150001 non-null  float64\n",
      " 53  Total UL (Bytes)                          150000 non-null  float64\n",
      " 54  Total DL (Bytes)                          150000 non-null  float64\n",
      "dtypes: float64(50), object(5)\n",
      "memory usage: 62.9+ MB\n"
     ]
    }
   ],
   "source": [
    "df.info()"
   ]
  },
  {
   "cell_type": "code",
   "execution_count": 4,
   "id": "61a71db0-11ab-43ae-ae66-9f9d7b35bfee",
   "metadata": {
    "ExecuteTime": {
     "end_time": "2023-12-16T08:44:38.449477158Z",
     "start_time": "2023-12-16T08:44:38.128243438Z"
    }
   },
   "outputs": [
    {
     "data": {
      "text/plain": "          Bearer Id       Start ms         End ms     Dur. (ms)          IMSI  \\\ncount  1.490100e+05  150000.000000  150000.000000  1.500000e+05  1.494310e+05   \nmean   1.013887e+19     499.188200     498.800880  1.046086e+05  2.082016e+14   \nstd    2.893173e+18     288.611834     288.097653  8.103762e+04  2.148809e+10   \nmin    6.917538e+18       0.000000       0.000000  7.142000e+03  2.040471e+14   \n25%    7.349883e+18     250.000000     251.000000  5.744050e+04  2.082014e+14   \n50%    7.349883e+18     499.000000     500.000000  8.639900e+04  2.082015e+14   \n75%    1.304243e+19     749.000000     750.000000  1.324302e+05  2.082018e+14   \nmax    1.318654e+19     999.000000     999.000000  1.859336e+06  2.140743e+14   \n\n       MSISDN/Number          IMEI  Avg RTT DL (ms)  Avg RTT UL (ms)  \\\ncount   1.489350e+05  1.494290e+05    122172.000000    122189.000000   \nmean    4.188282e+10  4.847455e+13       109.795706        17.662883   \nstd     2.447443e+12  2.241637e+13       619.782739        84.793524   \nmin     3.360100e+10  4.400152e+11         0.000000         0.000000   \n25%     3.365130e+10  3.546071e+13        32.000000         2.000000   \n50%     3.366371e+10  3.572201e+13        45.000000         5.000000   \n75%     3.368349e+10  8.611970e+13        70.000000        15.000000   \nmax     8.823971e+14  9.900120e+13     96923.000000      7120.000000   \n\n       Avg Bearer TP DL (kbps)  ...  Youtube DL (Bytes)  Youtube UL (Bytes)  \\\ncount            150000.000000  ...        1.500010e+05        1.500010e+05   \nmean              13300.045927  ...        1.163407e+07        1.100941e+07   \nstd               23971.878541  ...        6.710569e+06        6.345423e+06   \nmin                   0.000000  ...        5.300000e+01        1.050000e+02   \n25%                  43.000000  ...        5.833501e+06        5.517965e+06   \n50%                  63.000000  ...        1.161602e+07        1.101345e+07   \n75%               19710.750000  ...        1.744852e+07        1.651556e+07   \nmax              378160.000000  ...        2.325910e+07        2.201196e+07   \n\n       Netflix DL (Bytes)  Netflix UL (Bytes)  Gaming DL (Bytes)  \\\ncount        1.500010e+05        1.500010e+05       1.500010e+05   \nmean         1.162685e+07        1.100175e+07       4.220447e+08   \nstd          6.725218e+06        6.359490e+06       2.439675e+08   \nmin          4.200000e+01        3.500000e+01       2.516000e+03   \n25%          5.777156e+06        5.475981e+06       2.104733e+08   \n50%          1.164222e+07        1.099638e+07       4.234081e+08   \n75%          1.747048e+07        1.650727e+07       6.331742e+08   \nmax          2.325919e+07        2.201196e+07       8.434419e+08   \n\n       Gaming UL (Bytes)  Other DL (Bytes)  Other UL (Bytes)  \\\ncount       1.500010e+05      1.500010e+05      1.500010e+05   \nmean        8.288398e+06      4.211005e+08      8.264799e+06   \nstd         4.782700e+06      2.432050e+08      4.769004e+06   \nmin         5.900000e+01      3.290000e+03      1.480000e+02   \n25%         4.128476e+06      2.101869e+08      4.145943e+06   \n50%         8.291208e+06      4.218030e+08      8.267071e+06   \n75%         1.243162e+07      6.316918e+08      1.238415e+07   \nmax         1.655879e+07      8.434425e+08      1.655882e+07   \n\n       Total UL (Bytes)  Total DL (Bytes)  \ncount      1.500000e+05      1.500000e+05  \nmean       4.112121e+07      4.546434e+08  \nstd        1.127639e+07      2.441429e+08  \nmin        2.866892e+06      7.114041e+06  \n25%        3.322201e+07      2.431068e+08  \n50%        4.114331e+07      4.558411e+08  \n75%        4.903424e+07      6.657055e+08  \nmax        7.833131e+07      9.029696e+08  \n\n[8 rows x 50 columns]",
      "text/html": "<div>\n<style scoped>\n    .dataframe tbody tr th:only-of-type {\n        vertical-align: middle;\n    }\n\n    .dataframe tbody tr th {\n        vertical-align: top;\n    }\n\n    .dataframe thead th {\n        text-align: right;\n    }\n</style>\n<table border=\"1\" class=\"dataframe\">\n  <thead>\n    <tr style=\"text-align: right;\">\n      <th></th>\n      <th>Bearer Id</th>\n      <th>Start ms</th>\n      <th>End ms</th>\n      <th>Dur. (ms)</th>\n      <th>IMSI</th>\n      <th>MSISDN/Number</th>\n      <th>IMEI</th>\n      <th>Avg RTT DL (ms)</th>\n      <th>Avg RTT UL (ms)</th>\n      <th>Avg Bearer TP DL (kbps)</th>\n      <th>...</th>\n      <th>Youtube DL (Bytes)</th>\n      <th>Youtube UL (Bytes)</th>\n      <th>Netflix DL (Bytes)</th>\n      <th>Netflix UL (Bytes)</th>\n      <th>Gaming DL (Bytes)</th>\n      <th>Gaming UL (Bytes)</th>\n      <th>Other DL (Bytes)</th>\n      <th>Other UL (Bytes)</th>\n      <th>Total UL (Bytes)</th>\n      <th>Total DL (Bytes)</th>\n    </tr>\n  </thead>\n  <tbody>\n    <tr>\n      <th>count</th>\n      <td>1.490100e+05</td>\n      <td>150000.000000</td>\n      <td>150000.000000</td>\n      <td>1.500000e+05</td>\n      <td>1.494310e+05</td>\n      <td>1.489350e+05</td>\n      <td>1.494290e+05</td>\n      <td>122172.000000</td>\n      <td>122189.000000</td>\n      <td>150000.000000</td>\n      <td>...</td>\n      <td>1.500010e+05</td>\n      <td>1.500010e+05</td>\n      <td>1.500010e+05</td>\n      <td>1.500010e+05</td>\n      <td>1.500010e+05</td>\n      <td>1.500010e+05</td>\n      <td>1.500010e+05</td>\n      <td>1.500010e+05</td>\n      <td>1.500000e+05</td>\n      <td>1.500000e+05</td>\n    </tr>\n    <tr>\n      <th>mean</th>\n      <td>1.013887e+19</td>\n      <td>499.188200</td>\n      <td>498.800880</td>\n      <td>1.046086e+05</td>\n      <td>2.082016e+14</td>\n      <td>4.188282e+10</td>\n      <td>4.847455e+13</td>\n      <td>109.795706</td>\n      <td>17.662883</td>\n      <td>13300.045927</td>\n      <td>...</td>\n      <td>1.163407e+07</td>\n      <td>1.100941e+07</td>\n      <td>1.162685e+07</td>\n      <td>1.100175e+07</td>\n      <td>4.220447e+08</td>\n      <td>8.288398e+06</td>\n      <td>4.211005e+08</td>\n      <td>8.264799e+06</td>\n      <td>4.112121e+07</td>\n      <td>4.546434e+08</td>\n    </tr>\n    <tr>\n      <th>std</th>\n      <td>2.893173e+18</td>\n      <td>288.611834</td>\n      <td>288.097653</td>\n      <td>8.103762e+04</td>\n      <td>2.148809e+10</td>\n      <td>2.447443e+12</td>\n      <td>2.241637e+13</td>\n      <td>619.782739</td>\n      <td>84.793524</td>\n      <td>23971.878541</td>\n      <td>...</td>\n      <td>6.710569e+06</td>\n      <td>6.345423e+06</td>\n      <td>6.725218e+06</td>\n      <td>6.359490e+06</td>\n      <td>2.439675e+08</td>\n      <td>4.782700e+06</td>\n      <td>2.432050e+08</td>\n      <td>4.769004e+06</td>\n      <td>1.127639e+07</td>\n      <td>2.441429e+08</td>\n    </tr>\n    <tr>\n      <th>min</th>\n      <td>6.917538e+18</td>\n      <td>0.000000</td>\n      <td>0.000000</td>\n      <td>7.142000e+03</td>\n      <td>2.040471e+14</td>\n      <td>3.360100e+10</td>\n      <td>4.400152e+11</td>\n      <td>0.000000</td>\n      <td>0.000000</td>\n      <td>0.000000</td>\n      <td>...</td>\n      <td>5.300000e+01</td>\n      <td>1.050000e+02</td>\n      <td>4.200000e+01</td>\n      <td>3.500000e+01</td>\n      <td>2.516000e+03</td>\n      <td>5.900000e+01</td>\n      <td>3.290000e+03</td>\n      <td>1.480000e+02</td>\n      <td>2.866892e+06</td>\n      <td>7.114041e+06</td>\n    </tr>\n    <tr>\n      <th>25%</th>\n      <td>7.349883e+18</td>\n      <td>250.000000</td>\n      <td>251.000000</td>\n      <td>5.744050e+04</td>\n      <td>2.082014e+14</td>\n      <td>3.365130e+10</td>\n      <td>3.546071e+13</td>\n      <td>32.000000</td>\n      <td>2.000000</td>\n      <td>43.000000</td>\n      <td>...</td>\n      <td>5.833501e+06</td>\n      <td>5.517965e+06</td>\n      <td>5.777156e+06</td>\n      <td>5.475981e+06</td>\n      <td>2.104733e+08</td>\n      <td>4.128476e+06</td>\n      <td>2.101869e+08</td>\n      <td>4.145943e+06</td>\n      <td>3.322201e+07</td>\n      <td>2.431068e+08</td>\n    </tr>\n    <tr>\n      <th>50%</th>\n      <td>7.349883e+18</td>\n      <td>499.000000</td>\n      <td>500.000000</td>\n      <td>8.639900e+04</td>\n      <td>2.082015e+14</td>\n      <td>3.366371e+10</td>\n      <td>3.572201e+13</td>\n      <td>45.000000</td>\n      <td>5.000000</td>\n      <td>63.000000</td>\n      <td>...</td>\n      <td>1.161602e+07</td>\n      <td>1.101345e+07</td>\n      <td>1.164222e+07</td>\n      <td>1.099638e+07</td>\n      <td>4.234081e+08</td>\n      <td>8.291208e+06</td>\n      <td>4.218030e+08</td>\n      <td>8.267071e+06</td>\n      <td>4.114331e+07</td>\n      <td>4.558411e+08</td>\n    </tr>\n    <tr>\n      <th>75%</th>\n      <td>1.304243e+19</td>\n      <td>749.000000</td>\n      <td>750.000000</td>\n      <td>1.324302e+05</td>\n      <td>2.082018e+14</td>\n      <td>3.368349e+10</td>\n      <td>8.611970e+13</td>\n      <td>70.000000</td>\n      <td>15.000000</td>\n      <td>19710.750000</td>\n      <td>...</td>\n      <td>1.744852e+07</td>\n      <td>1.651556e+07</td>\n      <td>1.747048e+07</td>\n      <td>1.650727e+07</td>\n      <td>6.331742e+08</td>\n      <td>1.243162e+07</td>\n      <td>6.316918e+08</td>\n      <td>1.238415e+07</td>\n      <td>4.903424e+07</td>\n      <td>6.657055e+08</td>\n    </tr>\n    <tr>\n      <th>max</th>\n      <td>1.318654e+19</td>\n      <td>999.000000</td>\n      <td>999.000000</td>\n      <td>1.859336e+06</td>\n      <td>2.140743e+14</td>\n      <td>8.823971e+14</td>\n      <td>9.900120e+13</td>\n      <td>96923.000000</td>\n      <td>7120.000000</td>\n      <td>378160.000000</td>\n      <td>...</td>\n      <td>2.325910e+07</td>\n      <td>2.201196e+07</td>\n      <td>2.325919e+07</td>\n      <td>2.201196e+07</td>\n      <td>8.434419e+08</td>\n      <td>1.655879e+07</td>\n      <td>8.434425e+08</td>\n      <td>1.655882e+07</td>\n      <td>7.833131e+07</td>\n      <td>9.029696e+08</td>\n    </tr>\n  </tbody>\n</table>\n<p>8 rows × 50 columns</p>\n</div>"
     },
     "execution_count": 4,
     "metadata": {},
     "output_type": "execute_result"
    }
   ],
   "source": [
    "df.describe()"
   ]
  },
  {
   "cell_type": "code",
   "execution_count": 5,
   "id": "6aafea35-fa89-4f15-ae9a-a1d490db61c7",
   "metadata": {
    "ExecuteTime": {
     "end_time": "2023-12-16T08:45:37.080346280Z",
     "start_time": "2023-12-16T08:45:36.988132879Z"
    }
   },
   "outputs": [],
   "source": [
    "def percent_missing(df):\n",
    "    totalCells = np.product(df.shape)\n",
    "    missingCount = df.isnull().sum()\n",
    "\n",
    "    # Calculate total number of missing values\n",
    "    totalMissing = missingCount.sum()\n",
    "    print(\"The dataset contains\", round(((totalMissing/totalCells) * 100), 2), \"%\", \"missing values.\")"
   ]
  },
  {
   "cell_type": "code",
   "execution_count": 6,
   "id": "d0158c6d-b314-47d3-826c-aace177a2e1c",
   "metadata": {
    "ExecuteTime": {
     "end_time": "2023-12-16T08:45:39.365797294Z",
     "start_time": "2023-12-16T08:45:39.273912868Z"
    }
   },
   "outputs": [
    {
     "name": "stdout",
     "output_type": "stream",
     "text": [
      "The dataset contains 12.5 % missing values.\n"
     ]
    }
   ],
   "source": [
    "percent_missing(df)"
   ]
  },
  {
   "cell_type": "code",
   "execution_count": 7,
   "id": "d93034ef-87c8-4e28-8c47-c969166c763d",
   "metadata": {
    "ExecuteTime": {
     "end_time": "2023-12-16T08:45:43.357290596Z",
     "start_time": "2023-12-16T08:45:43.265809055Z"
    }
   },
   "outputs": [
    {
     "data": {
      "text/plain": "Bearer Id                                      991\nStart                                            1\nStart ms                                         1\nEnd                                              1\nEnd ms                                           1\nDur. (ms)                                        1\nIMSI                                           570\nMSISDN/Number                                 1066\nIMEI                                           572\nLast Location Name                            1153\nAvg RTT DL (ms)                              27829\nAvg RTT UL (ms)                              27812\nAvg Bearer TP DL (kbps)                          1\nAvg Bearer TP UL (kbps)                          1\nTCP DL Retrans. Vol (Bytes)                  88146\nTCP UL Retrans. Vol (Bytes)                  96649\nDL TP < 50 Kbps (%)                            754\n50 Kbps < DL TP < 250 Kbps (%)                 754\n250 Kbps < DL TP < 1 Mbps (%)                  754\nDL TP > 1 Mbps (%)                             754\nUL TP < 10 Kbps (%)                            792\n10 Kbps < UL TP < 50 Kbps (%)                  792\n50 Kbps < UL TP < 300 Kbps (%)                 792\nUL TP > 300 Kbps (%)                           792\nHTTP DL (Bytes)                              81474\nHTTP UL (Bytes)                              81810\nActivity Duration DL (ms)                        1\nActivity Duration UL (ms)                        1\nDur. (ms).1                                      1\nHandset Manufacturer                           572\nHandset Type                                   572\nNb of sec with 125000B < Vol DL              97538\nNb of sec with 1250B < Vol UL < 6250B        92894\nNb of sec with 31250B < Vol DL < 125000B     93586\nNb of sec with 37500B < Vol UL              130254\nNb of sec with 6250B < Vol DL < 31250B       88317\nNb of sec with 6250B < Vol UL < 37500B      111843\nNb of sec with Vol DL < 6250B                  755\nNb of sec with Vol UL < 1250B                  793\nSocial Media DL (Bytes)                          0\nSocial Media UL (Bytes)                          0\nGoogle DL (Bytes)                                0\nGoogle UL (Bytes)                                0\nEmail DL (Bytes)                                 0\nEmail UL (Bytes)                                 0\nYoutube DL (Bytes)                               0\nYoutube UL (Bytes)                               0\nNetflix DL (Bytes)                               0\nNetflix UL (Bytes)                               0\nGaming DL (Bytes)                                0\nGaming UL (Bytes)                                0\nOther DL (Bytes)                                 0\nOther UL (Bytes)                                 0\nTotal UL (Bytes)                                 1\nTotal DL (Bytes)                                 1\ndtype: int64"
     },
     "execution_count": 7,
     "metadata": {},
     "output_type": "execute_result"
    }
   ],
   "source": [
    "df.isna().sum()"
   ]
  },
  {
   "cell_type": "code",
   "execution_count": 8,
   "id": "ebc1c673-8224-48d8-b2bc-ba144c87d538",
   "metadata": {
    "ExecuteTime": {
     "end_time": "2023-12-16T08:46:26.082641373Z",
     "start_time": "2023-12-16T08:46:26.033201191Z"
    }
   },
   "outputs": [
    {
     "name": "stdout",
     "output_type": "stream",
     "text": [
      "The dataset contains 74.56 % missing values.\n"
     ]
    }
   ],
   "source": [
    "percent_missing(df['Nb of sec with 6250B < Vol UL < 37500B'])"
   ]
  },
  {
   "cell_type": "code",
   "execution_count": 9,
   "id": "21c525c3-dde5-4216-b830-c9aba44216ce",
   "metadata": {
    "ExecuteTime": {
     "end_time": "2023-12-16T08:46:44.532093252Z",
     "start_time": "2023-12-16T08:46:44.482104363Z"
    }
   },
   "outputs": [
    {
     "data": {
      "text/plain": "array(['Apple', 'undefined', 'Samsung', 'Huawei', 'TCL Communication Ltd',\n       'Oneplus Technology (Shenzhen) Co Ltd', None, 'Zte',\n       'Wiko Global Sasu', 'Zebra Technologies Corp.', 'Nokia', 'Wiko',\n       'Tcl Communication Ltd', 'ZTE', 'Lenovo', 'Asustek',\n       'Xiaomi Communications Co Ltd', 'Rim', 'Hmd Global Oy',\n       'Sony Mobile Communications AB', 'D-Link Corporation', 'Wct',\n       'Dn Electronics', 'Sony Mobile Communications Ab', 'Netgear Inc',\n       'Neel Enterprise', 'Teletalk Pvt Ltd', 'DDM Brands LLC',\n       'TP-Link Technologies Co Ltd', 'Tp-Link Technologies Co Ltd',\n       'Sierra Wireless', 'Google Inc',\n       'Shenzhen Chainway Information Technology Co Ltd',\n       'Microsoft Mobile Oy', 'Htc', 'Crosscall',\n       'Shenzhen Kdi Communication Co Ltd',\n       'Simcom Wireless Solutions Co Ltd',\n       'Qingdao Hisense Communications Co Ltd', 'Lg', 'Archos Sa',\n       'Hewlett-Packard', 'Spa Condor Electronics',\n       'Sonaki Corporation S.A.', 'New-Bund Technology Co Limited',\n       'Meizu Technology Co Ltd', 'LG', 'Doro Ab',\n       'Shenzhen Jeko Communication Co Limited',\n       'Vivo Mobile Communication Co Ltd', 'Gemalto M2M Gmbh',\n       'Ertebat Hamrah Guya Arvand', 'Maysun Info Technology Co Ltd',\n       'Shenzhen Fortuneship Technology Co Ltd', 'RIM',\n       'Shenzhen Leagoo Intelligence Co Ltd', 'Yota Devices',\n       'Electro Depot France Sas', 'Source (Hk) Ltd', 'Oppo',\n       'Logicom Sa', 'Infocus Corporation', 'Sony Ericsson',\n       'Tct Mobile Suzhou Limited', 'Acer', 'Lephone',\n       'Concox Information Technology (Hong Kong) Co Ltd',\n       'Wileyfox Europe Limited', 'ASUSTeK',\n       'Shenzhen Xin Kingbrand Technology Development Co Ltd',\n       'Kvd International Group Limited', 'China Trade Group S.A.S',\n       'Archos SA', 'Hem', 'Kapsys',\n       'Vplus Communication Technology Co Limited',\n       'Intermec Technologies', 'Tinno Mobile Technology Copr',\n       'Fairphone B.V', 'Doke Communication (Hk) Limited',\n       'Lemobile Information Technology (Beijing) Co Ltd',\n       'Shenzhen Boway Electronic Co Ltd',\n       'Rainbow Communication (Private) Limited',\n       'TCT Mobile Suzhou Limited', 'Dg Homtom Group Co Limited',\n       'Shenzhen Huanuo Internet Technology Co Ltd', 'Orbita Telecom Ltd',\n       'Hong Kong Frog International Limited', 'Kiwip Technologies Sas',\n       'Kook (Hong Kong) Technology Limited', 'Sfr', 'Kenxinda',\n       'Mundo Reader S.L.', 'Umi Network Technology Co Limited',\n       'Nubia Technology Co Ltd', 'Avenir Telecom',\n       'Shanghai Chengyu Media Technology Co Ltd', 'SFR',\n       'Bullitt Group Limited', 'Haier', 'HTC',\n       'Shenzhen New Chabridge Communication Co Ltd',\n       'Leagoo Intl Co. Limited', 'Fully Holdings (Hk) Co Limited',\n       'Doro AB', 'A-Link Telecom International Co Limited',\n       'Tecno Telecom (Hk) Limited', 'Alif Communications',\n       'Shenzhen Jsr Technology Co Ltd',\n       'Gotron (Hk) Electronic Co Limited', 'Ecom Instruments GmbH',\n       'Sdt Electronica', 'Infinix Technology Limited', 'Modelabs',\n       'Casper Bilgisayar Sistemleri A.S',\n       'Shenzhen Diadem Technology Co Ltd', 'Quartel Infotech Ltd',\n       'Hongkong Ipro Technology Co Limited',\n       'Shenzhen Guowei Electronics Co Ltd',\n       'Dynamic Tech Holdings Limited', 'Shenzhen Malata',\n       'Kazam Mobile Limited', 'Lidaxin Technology Limited',\n       'M S Soha Enterprise', 'Ddm Brands Llc', 'Quanta',\n       'Cisco Systems Inc (Including All Affiliates)',\n       'Zyxel Communications Corp', 'Adar', 'Compal Electronics Inc',\n       'Topwell Technology (HK) Company Limited', 'Wistron', 'Telit',\n       'Itel Technology Limited',\n       'Power Idea Technology (Shenzhen) Co Ltd', 'Mptech',\n       'KVD International Group Limited', 'Pt. Arga Mas Lestari',\n       'Group Acquisitions Limited', 'Gigaset Communications Gmbh',\n       'Vastking Technology (Hk) Limited', 'Mobiwire Sas', 'Option Nv',\n       'Shenzhen City Ramos Digital Technology Co Ltd',\n       'Sentar Wireless Technology Co Limited',\n       'Sintave Technology (Group) Co Ltd',\n       'Honstech Communication Co Ltd', 'Pacific Co (Bd) Ltd',\n       'Blu Products Inc', 'Yop Technology Co Limited', 'Bird', 'Tianyu',\n       'DN Electronics', 'Civicom Technology (Hk) Co Limited',\n       'Shenzhen Huadoo Bright Group Limited',\n       'Beijing Shenqi Technology Co Ltd', 'Essential Products Inc.',\n       'Sonim Technologies Inc', 'Ovvi-Cellphone Tech. Inc.',\n       'Quectel Wireless Solutions Co Ltd',\n       'Yi Sheng Technology International (Hk) Co Limited',\n       'Shenzhen Yiqingteng Electronic Technology Co Ltd',\n       'Shenzhen Sprocomm Technologies Co Ltd',\n       'ZyXEL Communications Corp', 'Razer Inc', 'Mikrotikls Sia',\n       'Tianlong International (Hk) Co Ltd',\n       'Shenzhen Kelly The Communication Equipment Co Ltd', 'Test IMEI',\n       'Ck Telecom Limited', 'Shenzhen Gaoxinqi'], dtype=object)"
     },
     "execution_count": 9,
     "metadata": {},
     "output_type": "execute_result"
    }
   ],
   "source": [
    "df['Handset Manufacturer'].unique()"
   ]
  },
  {
   "cell_type": "code",
   "execution_count": 10,
   "id": "98e1fd84-daa3-44f7-87bf-cd05d9d1401f",
   "metadata": {
    "ExecuteTime": {
     "end_time": "2023-12-16T08:46:44.900136249Z",
     "start_time": "2023-12-16T08:46:44.868643612Z"
    }
   },
   "outputs": [
    {
     "data": {
      "text/plain": "count               149429\nunique                1396\ntop       Huawei B528S-23A\nfreq                 19752\nName: Handset Type, dtype: object"
     },
     "execution_count": 10,
     "metadata": {},
     "output_type": "execute_result"
    }
   ],
   "source": [
    "df['Handset Type'].describe()"
   ]
  },
  {
   "cell_type": "code",
   "execution_count": 11,
   "id": "68fa2266-2c69-4ad6-b330-3ad0eb3ce508",
   "metadata": {
    "ExecuteTime": {
     "end_time": "2023-12-16T08:46:45.712218963Z",
     "start_time": "2023-12-16T08:46:45.678728278Z"
    }
   },
   "outputs": [
    {
     "name": "stdout",
     "output_type": "stream",
     "text": [
      "Handset Type\n",
      "Huawei B528S-23A                19752\n",
      "Apple iPhone 6S (A1688)          9419\n",
      "Apple iPhone 6 (A1586)           9023\n",
      "undefined                        8987\n",
      "Apple iPhone 7 (A1778)           6326\n",
      "Apple iPhone Se (A1723)          5187\n",
      "Apple iPhone 8 (A1905)           4993\n",
      "Apple iPhone Xr (A2105)          4568\n",
      "Samsung Galaxy S8 (Sm-G950F)     4520\n",
      "Apple iPhone X (A1901)           3813\n",
      "Name: count, dtype: int64\n"
     ]
    }
   ],
   "source": [
    "top_10_handsets = df['Handset Type'].value_counts().head(10)\n",
    "print(top_10_handsets)"
   ]
  },
  {
   "cell_type": "code",
   "execution_count": 12,
   "id": "6834da35-8505-4f91-8530-4ab05312f403",
   "metadata": {
    "ExecuteTime": {
     "end_time": "2023-12-16T08:46:48.637679654Z",
     "start_time": "2023-12-16T08:46:48.613399108Z"
    }
   },
   "outputs": [
    {
     "name": "stdout",
     "output_type": "stream",
     "text": [
      "Handset Manufacturer\n",
      "Apple      59565\n",
      "Samsung    40839\n",
      "Huawei     34423\n",
      "Name: count, dtype: int64\n"
     ]
    }
   ],
   "source": [
    "top_3_manufacturers = df['Handset Manufacturer'].value_counts().head(3)\n",
    "print(top_3_manufacturers)"
   ]
  },
  {
   "cell_type": "code",
   "execution_count": 13,
   "id": "1a8671ab-be1c-4b57-8e82-0650467491cf",
   "metadata": {
    "ExecuteTime": {
     "end_time": "2023-12-16T08:46:51.527659698Z",
     "start_time": "2023-12-16T08:46:51.406328426Z"
    }
   },
   "outputs": [
    {
     "data": {
      "text/plain": "    Handset Manufacturer                    Handset Type  Count\n35                 Apple         Apple iPhone 6S (A1688)   9419\n31                 Apple          Apple iPhone 6 (A1586)   9023\n41                 Apple          Apple iPhone 7 (A1778)   6326\n55                 Apple         Apple iPhone Se (A1723)   5187\n48                 Apple          Apple iPhone 8 (A1905)   4993\n83                Huawei                Huawei B528S-23A  19752\n104               Huawei                    Huawei E5180   2079\n183               Huawei  Huawei P20 Lite Huawei Nova 3E   2021\n182               Huawei                      Huawei P20   1480\n224               Huawei                  Huawei Y6 2018    997\n359              Samsung    Samsung Galaxy S8 (Sm-G950F)   4520\n242              Samsung      Samsung Galaxy A5 Sm-A520F   3724\n292              Samsung     Samsung Galaxy J5 (Sm-J530)   3696\n284              Samsung     Samsung Galaxy J3 (Sm-J330)   3484\n357              Samsung    Samsung Galaxy S7 (Sm-G930X)   3199",
      "text/html": "<div>\n<style scoped>\n    .dataframe tbody tr th:only-of-type {\n        vertical-align: middle;\n    }\n\n    .dataframe tbody tr th {\n        vertical-align: top;\n    }\n\n    .dataframe thead th {\n        text-align: right;\n    }\n</style>\n<table border=\"1\" class=\"dataframe\">\n  <thead>\n    <tr style=\"text-align: right;\">\n      <th></th>\n      <th>Handset Manufacturer</th>\n      <th>Handset Type</th>\n      <th>Count</th>\n    </tr>\n  </thead>\n  <tbody>\n    <tr>\n      <th>35</th>\n      <td>Apple</td>\n      <td>Apple iPhone 6S (A1688)</td>\n      <td>9419</td>\n    </tr>\n    <tr>\n      <th>31</th>\n      <td>Apple</td>\n      <td>Apple iPhone 6 (A1586)</td>\n      <td>9023</td>\n    </tr>\n    <tr>\n      <th>41</th>\n      <td>Apple</td>\n      <td>Apple iPhone 7 (A1778)</td>\n      <td>6326</td>\n    </tr>\n    <tr>\n      <th>55</th>\n      <td>Apple</td>\n      <td>Apple iPhone Se (A1723)</td>\n      <td>5187</td>\n    </tr>\n    <tr>\n      <th>48</th>\n      <td>Apple</td>\n      <td>Apple iPhone 8 (A1905)</td>\n      <td>4993</td>\n    </tr>\n    <tr>\n      <th>83</th>\n      <td>Huawei</td>\n      <td>Huawei B528S-23A</td>\n      <td>19752</td>\n    </tr>\n    <tr>\n      <th>104</th>\n      <td>Huawei</td>\n      <td>Huawei E5180</td>\n      <td>2079</td>\n    </tr>\n    <tr>\n      <th>183</th>\n      <td>Huawei</td>\n      <td>Huawei P20 Lite Huawei Nova 3E</td>\n      <td>2021</td>\n    </tr>\n    <tr>\n      <th>182</th>\n      <td>Huawei</td>\n      <td>Huawei P20</td>\n      <td>1480</td>\n    </tr>\n    <tr>\n      <th>224</th>\n      <td>Huawei</td>\n      <td>Huawei Y6 2018</td>\n      <td>997</td>\n    </tr>\n    <tr>\n      <th>359</th>\n      <td>Samsung</td>\n      <td>Samsung Galaxy S8 (Sm-G950F)</td>\n      <td>4520</td>\n    </tr>\n    <tr>\n      <th>242</th>\n      <td>Samsung</td>\n      <td>Samsung Galaxy A5 Sm-A520F</td>\n      <td>3724</td>\n    </tr>\n    <tr>\n      <th>292</th>\n      <td>Samsung</td>\n      <td>Samsung Galaxy J5 (Sm-J530)</td>\n      <td>3696</td>\n    </tr>\n    <tr>\n      <th>284</th>\n      <td>Samsung</td>\n      <td>Samsung Galaxy J3 (Sm-J330)</td>\n      <td>3484</td>\n    </tr>\n    <tr>\n      <th>357</th>\n      <td>Samsung</td>\n      <td>Samsung Galaxy S7 (Sm-G930X)</td>\n      <td>3199</td>\n    </tr>\n  </tbody>\n</table>\n</div>"
     },
     "execution_count": 13,
     "metadata": {},
     "output_type": "execute_result"
    }
   ],
   "source": [
    "top_3_manufacturers_list = top_3_manufacturers.index.tolist()\n",
    "top_5_handsets_per_manufacturer = df[df['Handset Manufacturer'].isin(top_3_manufacturers_list)]\n",
    "\n",
    "# Group by Manufacturer and Handset Type and count occurrences\n",
    "top_5_handsets_per_manufacturer = top_5_handsets_per_manufacturer.groupby(['Handset Manufacturer', 'Handset Type']).size().reset_index(name='Count')\n",
    "\n",
    "# Sort the values and get top 5 handsets for each manufacturer\n",
    "top_5_handsets_per_manufacturer = top_5_handsets_per_manufacturer.sort_values(by=['Handset Manufacturer', 'Count'], ascending=[True, False])\n",
    "top_5_handsets_per_manufacturer = top_5_handsets_per_manufacturer.groupby('Handset Manufacturer').head(5)\n",
    "top_5_handsets_per_manufacturer"
   ]
  },
  {
   "cell_type": "code",
   "execution_count": 15,
   "id": "4fdc192e-6a62-49f5-9b8a-fca5d09a6408",
   "metadata": {
    "ExecuteTime": {
     "end_time": "2023-12-16T09:27:34.537392702Z",
     "start_time": "2023-12-16T09:27:34.329461891Z"
    }
   },
   "outputs": [
    {
     "data": {
      "text/plain": "           Bearer Id            Start  Start ms              End  End ms  \\\n0       7.349883e+18  4/23/2019 13:56     642.0   4/25/2019 2:06    53.0   \n1       1.311448e+19  4/23/2019 14:00     501.0  4/24/2019 23:17   453.0   \n2       1.311448e+19  4/23/2019 14:00     507.0  4/24/2019 23:17   453.0   \n3       1.311448e+19  4/23/2019 14:00     744.0   4/25/2019 0:24   330.0   \n4       1.311448e+19  4/23/2019 14:01     369.0   4/25/2019 4:13   905.0   \n...              ...              ...       ...              ...     ...   \n149995  1.311448e+19  4/23/2019 13:30     944.0   4/25/2019 0:01   561.0   \n149996  7.349883e+18  4/23/2019 13:40     440.0   4/25/2019 0:05   938.0   \n149998  7.349883e+18  4/23/2019 13:45     396.0   4/25/2019 5:04   563.0   \n149999  7.349883e+18  4/23/2019 13:45     371.0   4/25/2019 0:45   801.0   \n150000  7.349883e+18  4/23/2019 13:52     914.0   4/25/2019 0:33   529.0   \n\n        Dur. (ms)          IMSI  MSISDN/Number          IMEI  \\\n0        130220.0  2.082003e+14   3.368112e+10  3.572961e+13   \n1        119804.0  2.082014e+14   3.369966e+10  3.561431e+13   \n2        119781.0  2.082014e+14   3.369966e+10  3.561431e+13   \n3        123787.0  2.082017e+14   3.362404e+10  8.629340e+13   \n4        137523.0  2.082017e+14   3.366612e+10  3.538111e+13   \n...           ...           ...            ...           ...   \n149995   124277.0  2.082022e+14   3.376271e+10  3.531181e+13   \n149996   123929.0  2.082015e+14   3.361314e+10  3.554291e+13   \n149998   141562.0  2.082003e+14   3.366454e+10  3.583681e+13   \n149999   125968.0  2.082014e+14   3.362153e+10  8.655450e+13   \n150000   124851.0  2.082015e+14   3.368603e+10  3.554031e+13   \n\n       Last Location Name  ...  Youtube DL (Bytes)  Youtube UL (Bytes)  \\\n0                 T10006B  ...          21500768.0          12101768.0   \n1                 T92938B  ...           7277265.0          14808877.0   \n2                 T92938B  ...          10232699.0           8551438.0   \n3                 D21059A  ...          15007252.0          16673992.0   \n4                 D42243B  ...           9633967.0          17836471.0   \n...                   ...  ...                 ...                 ...   \n149995            L73529B  ...          13344653.0          21481781.0   \n149996            T85898A  ...          12605777.0          16906484.0   \n149998            D14160B  ...          21085496.0           2408552.0   \n149999            D17564A  ...          17936069.0          21870886.0   \n150000            D76940C  ...           8044933.0           9848373.0   \n\n        Netflix DL (Bytes)  Netflix UL (Bytes)  Gaming DL (Bytes)  \\\n0               12226975.0          16511157.0        340225685.0   \n1                5404356.0          17848389.0        281827903.0   \n2                8528398.0          19632728.0         73444975.0   \n3               14089357.0           6924105.0        174894914.0   \n4               22432445.0             11400.0        623985913.0   \n...                    ...                 ...                ...   \n149995           3006429.0          14228011.0        800328990.0   \n149996          22432971.0           9568595.0        393607235.0   \n149998          20268785.0           9387413.0         93762508.0   \n149999           8441175.0          12359191.0        531253798.0   \n150000          11790496.0           6835678.0        231760540.0   \n\n        Gaming UL (Bytes)  Other DL (Bytes)  Other UL (Bytes)  \\\n0               6951608.0       483022848.0        13524725.0   \n1               3255023.0       746150700.0         1475289.0   \n2               8167950.0       787793727.0        10773216.0   \n3                 41507.0       345556220.0          837674.0   \n4              10539036.0       706817241.0        11317378.0   \n...                   ...               ...               ...   \n149995         15803103.0       753652429.0         9937191.0   \n149996         13856748.0       799604859.0         4582819.0   \n149998         12419669.0       431730550.0        15736147.0   \n149999          5304546.0       249852131.0        15946681.0   \n150000           410282.0       594708456.0        13102848.0   \n\n        Total UL (Bytes)  Total DL (Bytes)  \n0             50864502.0       388912579.0  \n1             38549811.0       305633791.0  \n2             49161715.0       105009018.0  \n3             28422142.0       209975300.0  \n4             43951635.0       661274286.0  \n...                  ...               ...  \n149995        63286610.0       826228019.0  \n149996        49546620.0       438336637.0  \n149998        42056744.0       146178340.0  \n149999        58471297.0       573991554.0  \n150000        31663932.0       265511886.0  \n\n[148206 rows x 55 columns]",
      "text/html": "<div>\n<style scoped>\n    .dataframe tbody tr th:only-of-type {\n        vertical-align: middle;\n    }\n\n    .dataframe tbody tr th {\n        vertical-align: top;\n    }\n\n    .dataframe thead th {\n        text-align: right;\n    }\n</style>\n<table border=\"1\" class=\"dataframe\">\n  <thead>\n    <tr style=\"text-align: right;\">\n      <th></th>\n      <th>Bearer Id</th>\n      <th>Start</th>\n      <th>Start ms</th>\n      <th>End</th>\n      <th>End ms</th>\n      <th>Dur. (ms)</th>\n      <th>IMSI</th>\n      <th>MSISDN/Number</th>\n      <th>IMEI</th>\n      <th>Last Location Name</th>\n      <th>...</th>\n      <th>Youtube DL (Bytes)</th>\n      <th>Youtube UL (Bytes)</th>\n      <th>Netflix DL (Bytes)</th>\n      <th>Netflix UL (Bytes)</th>\n      <th>Gaming DL (Bytes)</th>\n      <th>Gaming UL (Bytes)</th>\n      <th>Other DL (Bytes)</th>\n      <th>Other UL (Bytes)</th>\n      <th>Total UL (Bytes)</th>\n      <th>Total DL (Bytes)</th>\n    </tr>\n  </thead>\n  <tbody>\n    <tr>\n      <th>0</th>\n      <td>7.349883e+18</td>\n      <td>4/23/2019 13:56</td>\n      <td>642.0</td>\n      <td>4/25/2019 2:06</td>\n      <td>53.0</td>\n      <td>130220.0</td>\n      <td>2.082003e+14</td>\n      <td>3.368112e+10</td>\n      <td>3.572961e+13</td>\n      <td>T10006B</td>\n      <td>...</td>\n      <td>21500768.0</td>\n      <td>12101768.0</td>\n      <td>12226975.0</td>\n      <td>16511157.0</td>\n      <td>340225685.0</td>\n      <td>6951608.0</td>\n      <td>483022848.0</td>\n      <td>13524725.0</td>\n      <td>50864502.0</td>\n      <td>388912579.0</td>\n    </tr>\n    <tr>\n      <th>1</th>\n      <td>1.311448e+19</td>\n      <td>4/23/2019 14:00</td>\n      <td>501.0</td>\n      <td>4/24/2019 23:17</td>\n      <td>453.0</td>\n      <td>119804.0</td>\n      <td>2.082014e+14</td>\n      <td>3.369966e+10</td>\n      <td>3.561431e+13</td>\n      <td>T92938B</td>\n      <td>...</td>\n      <td>7277265.0</td>\n      <td>14808877.0</td>\n      <td>5404356.0</td>\n      <td>17848389.0</td>\n      <td>281827903.0</td>\n      <td>3255023.0</td>\n      <td>746150700.0</td>\n      <td>1475289.0</td>\n      <td>38549811.0</td>\n      <td>305633791.0</td>\n    </tr>\n    <tr>\n      <th>2</th>\n      <td>1.311448e+19</td>\n      <td>4/23/2019 14:00</td>\n      <td>507.0</td>\n      <td>4/24/2019 23:17</td>\n      <td>453.0</td>\n      <td>119781.0</td>\n      <td>2.082014e+14</td>\n      <td>3.369966e+10</td>\n      <td>3.561431e+13</td>\n      <td>T92938B</td>\n      <td>...</td>\n      <td>10232699.0</td>\n      <td>8551438.0</td>\n      <td>8528398.0</td>\n      <td>19632728.0</td>\n      <td>73444975.0</td>\n      <td>8167950.0</td>\n      <td>787793727.0</td>\n      <td>10773216.0</td>\n      <td>49161715.0</td>\n      <td>105009018.0</td>\n    </tr>\n    <tr>\n      <th>3</th>\n      <td>1.311448e+19</td>\n      <td>4/23/2019 14:00</td>\n      <td>744.0</td>\n      <td>4/25/2019 0:24</td>\n      <td>330.0</td>\n      <td>123787.0</td>\n      <td>2.082017e+14</td>\n      <td>3.362404e+10</td>\n      <td>8.629340e+13</td>\n      <td>D21059A</td>\n      <td>...</td>\n      <td>15007252.0</td>\n      <td>16673992.0</td>\n      <td>14089357.0</td>\n      <td>6924105.0</td>\n      <td>174894914.0</td>\n      <td>41507.0</td>\n      <td>345556220.0</td>\n      <td>837674.0</td>\n      <td>28422142.0</td>\n      <td>209975300.0</td>\n    </tr>\n    <tr>\n      <th>4</th>\n      <td>1.311448e+19</td>\n      <td>4/23/2019 14:01</td>\n      <td>369.0</td>\n      <td>4/25/2019 4:13</td>\n      <td>905.0</td>\n      <td>137523.0</td>\n      <td>2.082017e+14</td>\n      <td>3.366612e+10</td>\n      <td>3.538111e+13</td>\n      <td>D42243B</td>\n      <td>...</td>\n      <td>9633967.0</td>\n      <td>17836471.0</td>\n      <td>22432445.0</td>\n      <td>11400.0</td>\n      <td>623985913.0</td>\n      <td>10539036.0</td>\n      <td>706817241.0</td>\n      <td>11317378.0</td>\n      <td>43951635.0</td>\n      <td>661274286.0</td>\n    </tr>\n    <tr>\n      <th>...</th>\n      <td>...</td>\n      <td>...</td>\n      <td>...</td>\n      <td>...</td>\n      <td>...</td>\n      <td>...</td>\n      <td>...</td>\n      <td>...</td>\n      <td>...</td>\n      <td>...</td>\n      <td>...</td>\n      <td>...</td>\n      <td>...</td>\n      <td>...</td>\n      <td>...</td>\n      <td>...</td>\n      <td>...</td>\n      <td>...</td>\n      <td>...</td>\n      <td>...</td>\n      <td>...</td>\n    </tr>\n    <tr>\n      <th>149995</th>\n      <td>1.311448e+19</td>\n      <td>4/23/2019 13:30</td>\n      <td>944.0</td>\n      <td>4/25/2019 0:01</td>\n      <td>561.0</td>\n      <td>124277.0</td>\n      <td>2.082022e+14</td>\n      <td>3.376271e+10</td>\n      <td>3.531181e+13</td>\n      <td>L73529B</td>\n      <td>...</td>\n      <td>13344653.0</td>\n      <td>21481781.0</td>\n      <td>3006429.0</td>\n      <td>14228011.0</td>\n      <td>800328990.0</td>\n      <td>15803103.0</td>\n      <td>753652429.0</td>\n      <td>9937191.0</td>\n      <td>63286610.0</td>\n      <td>826228019.0</td>\n    </tr>\n    <tr>\n      <th>149996</th>\n      <td>7.349883e+18</td>\n      <td>4/23/2019 13:40</td>\n      <td>440.0</td>\n      <td>4/25/2019 0:05</td>\n      <td>938.0</td>\n      <td>123929.0</td>\n      <td>2.082015e+14</td>\n      <td>3.361314e+10</td>\n      <td>3.554291e+13</td>\n      <td>T85898A</td>\n      <td>...</td>\n      <td>12605777.0</td>\n      <td>16906484.0</td>\n      <td>22432971.0</td>\n      <td>9568595.0</td>\n      <td>393607235.0</td>\n      <td>13856748.0</td>\n      <td>799604859.0</td>\n      <td>4582819.0</td>\n      <td>49546620.0</td>\n      <td>438336637.0</td>\n    </tr>\n    <tr>\n      <th>149998</th>\n      <td>7.349883e+18</td>\n      <td>4/23/2019 13:45</td>\n      <td>396.0</td>\n      <td>4/25/2019 5:04</td>\n      <td>563.0</td>\n      <td>141562.0</td>\n      <td>2.082003e+14</td>\n      <td>3.366454e+10</td>\n      <td>3.583681e+13</td>\n      <td>D14160B</td>\n      <td>...</td>\n      <td>21085496.0</td>\n      <td>2408552.0</td>\n      <td>20268785.0</td>\n      <td>9387413.0</td>\n      <td>93762508.0</td>\n      <td>12419669.0</td>\n      <td>431730550.0</td>\n      <td>15736147.0</td>\n      <td>42056744.0</td>\n      <td>146178340.0</td>\n    </tr>\n    <tr>\n      <th>149999</th>\n      <td>7.349883e+18</td>\n      <td>4/23/2019 13:45</td>\n      <td>371.0</td>\n      <td>4/25/2019 0:45</td>\n      <td>801.0</td>\n      <td>125968.0</td>\n      <td>2.082014e+14</td>\n      <td>3.362153e+10</td>\n      <td>8.655450e+13</td>\n      <td>D17564A</td>\n      <td>...</td>\n      <td>17936069.0</td>\n      <td>21870886.0</td>\n      <td>8441175.0</td>\n      <td>12359191.0</td>\n      <td>531253798.0</td>\n      <td>5304546.0</td>\n      <td>249852131.0</td>\n      <td>15946681.0</td>\n      <td>58471297.0</td>\n      <td>573991554.0</td>\n    </tr>\n    <tr>\n      <th>150000</th>\n      <td>7.349883e+18</td>\n      <td>4/23/2019 13:52</td>\n      <td>914.0</td>\n      <td>4/25/2019 0:33</td>\n      <td>529.0</td>\n      <td>124851.0</td>\n      <td>2.082015e+14</td>\n      <td>3.368603e+10</td>\n      <td>3.554031e+13</td>\n      <td>D76940C</td>\n      <td>...</td>\n      <td>8044933.0</td>\n      <td>9848373.0</td>\n      <td>11790496.0</td>\n      <td>6835678.0</td>\n      <td>231760540.0</td>\n      <td>410282.0</td>\n      <td>594708456.0</td>\n      <td>13102848.0</td>\n      <td>31663932.0</td>\n      <td>265511886.0</td>\n    </tr>\n  </tbody>\n</table>\n<p>148206 rows × 55 columns</p>\n</div>"
     },
     "execution_count": 15,
     "metadata": {},
     "output_type": "execute_result"
    }
   ],
   "source": [
    "user_data = df.groupby('MSISDN/Number')\n",
    "user_data.head()"
   ]
  },
  {
   "cell_type": "code",
   "execution_count": 19,
   "id": "b4bba138-6f30-4bcc-b77c-73aa5687b060",
   "metadata": {
    "editable": true,
    "slideshow": {
     "slide_type": ""
    },
    "tags": [],
    "ExecuteTime": {
     "end_time": "2023-12-16T09:33:33.335733105Z",
     "start_time": "2023-12-16T09:33:33.283175597Z"
    }
   },
   "outputs": [],
   "source": [
    "#Number of XDR Sessions per user\n",
    "\n",
    "num_xdr = user_data.size().rename('Number of XDR Sessions')\n",
    "session_duration = user_data['Dur. (ms)'].sum() / 1000\n",
    "total_up_dl_per_user = user_data[['Total DL (Bytes)', 'Total UL (Bytes)']].sum()"
   ]
  },
  {
   "cell_type": "code",
   "execution_count": 33,
   "outputs": [],
   "source": [
    "#total data volume for each user per application \n",
    "\n",
    "app_columns = ['Social Media DL (Bytes)', 'Social Media UL (Bytes)', 'Google DL (Bytes)', 'Google UL (Bytes)',\n",
    "               'Email DL (Bytes)', 'Email UL (Bytes)', 'Youtube DL (Bytes)', 'Youtube UL (Bytes)',\n",
    "               'Netflix DL (Bytes)', 'Netflix UL (Bytes)', 'Gaming DL (Bytes)', 'Gaming UL (Bytes)',\n",
    "               'Other DL (Bytes)', 'Other UL (Bytes)']\n",
    "\n",
    "for data in app_columns:\n",
    "    df[data] /= (1024 * 1024)\n",
    "total_data = user_data[app_columns].sum()"
   ],
   "metadata": {
    "collapsed": false,
    "ExecuteTime": {
     "end_time": "2023-12-16T09:47:30.946354085Z",
     "start_time": "2023-12-16T09:47:30.866966215Z"
    }
   },
   "id": "4d84a795b9195053"
  },
  {
   "cell_type": "code",
   "execution_count": 34,
   "outputs": [],
   "source": [
    "#user behavior \n",
    "\n",
    "user_behavior = pd.concat([num_xdr, session_duration, total_up_dl_per_user, total_data], axis=1) "
   ],
   "metadata": {
    "collapsed": false,
    "ExecuteTime": {
     "end_time": "2023-12-16T09:47:34.306005021Z",
     "start_time": "2023-12-16T09:47:34.254256347Z"
    }
   },
   "id": "ec888a19826e74ba"
  },
  {
   "cell_type": "code",
   "execution_count": 31,
   "outputs": [
    {
     "data": {
      "text/plain": "               Number of XDR Sessions  Dur. (ms)  Total DL (Bytes)  \\\nMSISDN/Number                                                        \n3.360100e+10                        1    116.720      8.426375e+08   \n3.360100e+10                        1    181.230      1.207552e+08   \n3.360100e+10                        1    134.969      5.566597e+08   \n3.360101e+10                        1     49.878      4.019932e+08   \n3.360101e+10                        2     37.104      1.363130e+09   \n...                               ...        ...               ...   \n3.379000e+10                        1      8.810      6.879252e+08   \n3.379000e+10                        1    140.988      4.445751e+08   \n3.197021e+12                        1    877.385      1.948281e+08   \n3.370000e+14                        1    253.030      5.396350e+08   \n8.823971e+14                        1    869.844      7.869760e+07   \n\n               Total UL (Bytes)  Social Media DL (Bytes)  \\\nMSISDN/Number                                              \n3.360100e+10         36053108.0                 2.104286   \n3.360100e+10         36104459.0                 2.478168   \n3.360100e+10         39306820.0                 3.002171   \n3.360101e+10         20327526.0                 0.239820   \n3.360101e+10         94280527.0                 2.728682   \n...                         ...                      ...   \n3.379000e+10         26716429.0                 0.223465   \n3.379000e+10         35732243.0                 0.421728   \n3.197021e+12         37295915.0                 0.637623   \n3.370000e+14         56652839.0                 0.473344   \n8.823971e+14         60456049.0                 1.430650   \n\n               Social Media UL (Bytes)  Google DL (Bytes)  Google UL (Bytes)  \\\nMSISDN/Number                                                                  \n3.360100e+10                  0.024444           3.182528           1.003153   \n3.360100e+10                  0.059144           4.003236           1.084486   \n3.360100e+10                  0.045413           3.188594           0.095027   \n3.360101e+10                  0.027490           5.662694           3.567436   \n3.360101e+10                  0.048935          13.092678           4.549931   \n...                                ...                ...                ...   \n3.379000e+10                  0.062812           6.517580           0.664798   \n3.379000e+10                  0.053744           1.404196           3.773974   \n3.197021e+12                  0.044468           8.175639           1.779443   \n3.370000e+14                  0.024060           7.834947           1.540260   \n8.823971e+14                  0.043815           5.707826           3.083761   \n\n               Email DL (Bytes)  Email UL (Bytes)  Youtube DL (Bytes)  \\\nMSISDN/Number                                                           \n3.360100e+10           0.798607          0.471079           14.209939   \n3.360100e+10           2.697774          0.456772            5.077601   \n3.360100e+10           2.323627          0.733261            2.038261   \n3.360101e+10           2.077692          0.101139            4.189609   \n3.360101e+10           2.143677          1.008664            9.860965   \n...                         ...               ...                 ...   \n3.379000e+10           0.458666          0.501603            7.910070   \n3.379000e+10           2.396996          0.000633            5.337584   \n3.197021e+12           0.803260          0.647060            9.384049   \n3.370000e+14           2.851165          0.313682           15.917519   \n8.823971e+14           2.401757          0.774907           18.101044   \n\n               Youtube UL (Bytes)  Netflix DL (Bytes)  Netflix UL (Bytes)  \\\nMSISDN/Number                                                               \n3.360100e+10             6.412837            9.789567           16.132236   \n3.360100e+10             6.778690            0.734872            9.967035   \n3.360100e+10            18.307016           15.760345            2.696973   \n3.360101e+10             2.464483            1.103746            0.748377   \n3.360101e+10            29.747993           23.814818           23.107602   \n...                           ...                 ...                 ...   \n3.379000e+10            17.503293           14.071218            0.140950   \n3.379000e+10            13.594351            6.608926            1.526927   \n3.197021e+12             2.021805            9.861858           15.498535   \n3.370000e+14            19.115650            9.521177           19.952168   \n8.823971e+14            20.943060           20.619713            6.890196   \n\n               Gaming DL (Bytes)  Gaming UL (Bytes)  Other DL (Bytes)  \\\nMSISDN/Number                                                           \n3.360100e+10          773.516782           1.304176        359.627714   \n3.360100e+10          100.169466          14.033108        266.606999   \n3.360100e+10          504.559026           9.307125        472.151280   \n3.360101e+10          370.097003           2.909939         24.078370   \n3.360101e+10         1248.341649           5.547263        741.618836   \n...                          ...                ...               ...   \n3.379000e+10          626.875607           2.894060        277.892383   \n3.379000e+10          407.810417           8.948399        195.156167   \n3.197021e+12          156.940084          12.860425        446.012592   \n3.370000e+14          478.037874           8.472112        137.666757   \n8.823971e+14           26.790888          14.284113        371.131630   \n\n               Other UL (Bytes)  \nMSISDN/Number                    \n3.360100e+10           9.034998  \n3.360100e+10           2.052660  \n3.360100e+10           6.301089  \n3.360101e+10           9.566976  \n3.360101e+10          25.902530  \n...                         ...  \n3.379000e+10           3.711256  \n3.379000e+10           6.178894  \n3.197021e+12           2.716420  \n3.370000e+14           4.610426  \n8.823971e+14          11.635530  \n\n[106856 rows x 18 columns]",
      "text/html": "<div>\n<style scoped>\n    .dataframe tbody tr th:only-of-type {\n        vertical-align: middle;\n    }\n\n    .dataframe tbody tr th {\n        vertical-align: top;\n    }\n\n    .dataframe thead th {\n        text-align: right;\n    }\n</style>\n<table border=\"1\" class=\"dataframe\">\n  <thead>\n    <tr style=\"text-align: right;\">\n      <th></th>\n      <th>Number of XDR Sessions</th>\n      <th>Dur. (ms)</th>\n      <th>Total DL (Bytes)</th>\n      <th>Total UL (Bytes)</th>\n      <th>Social Media DL (Bytes)</th>\n      <th>Social Media UL (Bytes)</th>\n      <th>Google DL (Bytes)</th>\n      <th>Google UL (Bytes)</th>\n      <th>Email DL (Bytes)</th>\n      <th>Email UL (Bytes)</th>\n      <th>Youtube DL (Bytes)</th>\n      <th>Youtube UL (Bytes)</th>\n      <th>Netflix DL (Bytes)</th>\n      <th>Netflix UL (Bytes)</th>\n      <th>Gaming DL (Bytes)</th>\n      <th>Gaming UL (Bytes)</th>\n      <th>Other DL (Bytes)</th>\n      <th>Other UL (Bytes)</th>\n    </tr>\n    <tr>\n      <th>MSISDN/Number</th>\n      <th></th>\n      <th></th>\n      <th></th>\n      <th></th>\n      <th></th>\n      <th></th>\n      <th></th>\n      <th></th>\n      <th></th>\n      <th></th>\n      <th></th>\n      <th></th>\n      <th></th>\n      <th></th>\n      <th></th>\n      <th></th>\n      <th></th>\n      <th></th>\n    </tr>\n  </thead>\n  <tbody>\n    <tr>\n      <th>3.360100e+10</th>\n      <td>1</td>\n      <td>116.720</td>\n      <td>8.426375e+08</td>\n      <td>36053108.0</td>\n      <td>2.104286</td>\n      <td>0.024444</td>\n      <td>3.182528</td>\n      <td>1.003153</td>\n      <td>0.798607</td>\n      <td>0.471079</td>\n      <td>14.209939</td>\n      <td>6.412837</td>\n      <td>9.789567</td>\n      <td>16.132236</td>\n      <td>773.516782</td>\n      <td>1.304176</td>\n      <td>359.627714</td>\n      <td>9.034998</td>\n    </tr>\n    <tr>\n      <th>3.360100e+10</th>\n      <td>1</td>\n      <td>181.230</td>\n      <td>1.207552e+08</td>\n      <td>36104459.0</td>\n      <td>2.478168</td>\n      <td>0.059144</td>\n      <td>4.003236</td>\n      <td>1.084486</td>\n      <td>2.697774</td>\n      <td>0.456772</td>\n      <td>5.077601</td>\n      <td>6.778690</td>\n      <td>0.734872</td>\n      <td>9.967035</td>\n      <td>100.169466</td>\n      <td>14.033108</td>\n      <td>266.606999</td>\n      <td>2.052660</td>\n    </tr>\n    <tr>\n      <th>3.360100e+10</th>\n      <td>1</td>\n      <td>134.969</td>\n      <td>5.566597e+08</td>\n      <td>39306820.0</td>\n      <td>3.002171</td>\n      <td>0.045413</td>\n      <td>3.188594</td>\n      <td>0.095027</td>\n      <td>2.323627</td>\n      <td>0.733261</td>\n      <td>2.038261</td>\n      <td>18.307016</td>\n      <td>15.760345</td>\n      <td>2.696973</td>\n      <td>504.559026</td>\n      <td>9.307125</td>\n      <td>472.151280</td>\n      <td>6.301089</td>\n    </tr>\n    <tr>\n      <th>3.360101e+10</th>\n      <td>1</td>\n      <td>49.878</td>\n      <td>4.019932e+08</td>\n      <td>20327526.0</td>\n      <td>0.239820</td>\n      <td>0.027490</td>\n      <td>5.662694</td>\n      <td>3.567436</td>\n      <td>2.077692</td>\n      <td>0.101139</td>\n      <td>4.189609</td>\n      <td>2.464483</td>\n      <td>1.103746</td>\n      <td>0.748377</td>\n      <td>370.097003</td>\n      <td>2.909939</td>\n      <td>24.078370</td>\n      <td>9.566976</td>\n    </tr>\n    <tr>\n      <th>3.360101e+10</th>\n      <td>2</td>\n      <td>37.104</td>\n      <td>1.363130e+09</td>\n      <td>94280527.0</td>\n      <td>2.728682</td>\n      <td>0.048935</td>\n      <td>13.092678</td>\n      <td>4.549931</td>\n      <td>2.143677</td>\n      <td>1.008664</td>\n      <td>9.860965</td>\n      <td>29.747993</td>\n      <td>23.814818</td>\n      <td>23.107602</td>\n      <td>1248.341649</td>\n      <td>5.547263</td>\n      <td>741.618836</td>\n      <td>25.902530</td>\n    </tr>\n    <tr>\n      <th>...</th>\n      <td>...</td>\n      <td>...</td>\n      <td>...</td>\n      <td>...</td>\n      <td>...</td>\n      <td>...</td>\n      <td>...</td>\n      <td>...</td>\n      <td>...</td>\n      <td>...</td>\n      <td>...</td>\n      <td>...</td>\n      <td>...</td>\n      <td>...</td>\n      <td>...</td>\n      <td>...</td>\n      <td>...</td>\n      <td>...</td>\n    </tr>\n    <tr>\n      <th>3.379000e+10</th>\n      <td>1</td>\n      <td>8.810</td>\n      <td>6.879252e+08</td>\n      <td>26716429.0</td>\n      <td>0.223465</td>\n      <td>0.062812</td>\n      <td>6.517580</td>\n      <td>0.664798</td>\n      <td>0.458666</td>\n      <td>0.501603</td>\n      <td>7.910070</td>\n      <td>17.503293</td>\n      <td>14.071218</td>\n      <td>0.140950</td>\n      <td>626.875607</td>\n      <td>2.894060</td>\n      <td>277.892383</td>\n      <td>3.711256</td>\n    </tr>\n    <tr>\n      <th>3.379000e+10</th>\n      <td>1</td>\n      <td>140.988</td>\n      <td>4.445751e+08</td>\n      <td>35732243.0</td>\n      <td>0.421728</td>\n      <td>0.053744</td>\n      <td>1.404196</td>\n      <td>3.773974</td>\n      <td>2.396996</td>\n      <td>0.000633</td>\n      <td>5.337584</td>\n      <td>13.594351</td>\n      <td>6.608926</td>\n      <td>1.526927</td>\n      <td>407.810417</td>\n      <td>8.948399</td>\n      <td>195.156167</td>\n      <td>6.178894</td>\n    </tr>\n    <tr>\n      <th>3.197021e+12</th>\n      <td>1</td>\n      <td>877.385</td>\n      <td>1.948281e+08</td>\n      <td>37295915.0</td>\n      <td>0.637623</td>\n      <td>0.044468</td>\n      <td>8.175639</td>\n      <td>1.779443</td>\n      <td>0.803260</td>\n      <td>0.647060</td>\n      <td>9.384049</td>\n      <td>2.021805</td>\n      <td>9.861858</td>\n      <td>15.498535</td>\n      <td>156.940084</td>\n      <td>12.860425</td>\n      <td>446.012592</td>\n      <td>2.716420</td>\n    </tr>\n    <tr>\n      <th>3.370000e+14</th>\n      <td>1</td>\n      <td>253.030</td>\n      <td>5.396350e+08</td>\n      <td>56652839.0</td>\n      <td>0.473344</td>\n      <td>0.024060</td>\n      <td>7.834947</td>\n      <td>1.540260</td>\n      <td>2.851165</td>\n      <td>0.313682</td>\n      <td>15.917519</td>\n      <td>19.115650</td>\n      <td>9.521177</td>\n      <td>19.952168</td>\n      <td>478.037874</td>\n      <td>8.472112</td>\n      <td>137.666757</td>\n      <td>4.610426</td>\n    </tr>\n    <tr>\n      <th>8.823971e+14</th>\n      <td>1</td>\n      <td>869.844</td>\n      <td>7.869760e+07</td>\n      <td>60456049.0</td>\n      <td>1.430650</td>\n      <td>0.043815</td>\n      <td>5.707826</td>\n      <td>3.083761</td>\n      <td>2.401757</td>\n      <td>0.774907</td>\n      <td>18.101044</td>\n      <td>20.943060</td>\n      <td>20.619713</td>\n      <td>6.890196</td>\n      <td>26.790888</td>\n      <td>14.284113</td>\n      <td>371.131630</td>\n      <td>11.635530</td>\n    </tr>\n  </tbody>\n</table>\n<p>106856 rows × 18 columns</p>\n</div>"
     },
     "execution_count": 31,
     "metadata": {},
     "output_type": "execute_result"
    }
   ],
   "source": [
    "user_behavior"
   ],
   "metadata": {
    "collapsed": false,
    "ExecuteTime": {
     "end_time": "2023-12-16T09:45:38.681280926Z",
     "start_time": "2023-12-16T09:45:38.572835848Z"
    }
   },
   "id": "20302dc12ef91390"
  },
  {
   "cell_type": "code",
   "execution_count": 35,
   "outputs": [
    {
     "data": {
      "text/plain": "MSISDN/Number\n3.362632e+10    18\n3.361489e+10    17\n3.362578e+10    17\n3.365973e+10    16\n3.367588e+10    15\n3.376054e+10    15\n3.366716e+10    13\n3.360313e+10    12\n3.360452e+10    12\n3.362708e+10    12\nName: Number of XDR Sessions, dtype: int64"
     },
     "execution_count": 35,
     "metadata": {},
     "output_type": "execute_result"
    }
   ],
   "source": [
    "#top 10 by xdr\n",
    "\n",
    "top_10_xdr = user_behavior['Number of XDR Sessions'].nlargest(10)\n",
    "top_10_xdr"
   ],
   "metadata": {
    "collapsed": false,
    "ExecuteTime": {
     "end_time": "2023-12-16T11:31:28.288033316Z",
     "start_time": "2023-12-16T11:31:28.254651564Z"
    }
   },
   "id": "133a765086723a10"
  },
  {
   "cell_type": "code",
   "execution_count": 42,
   "outputs": [
    {
     "data": {
      "text/plain": "MSISDN/Number\n3.362578e+10    18.553754\n3.361489e+10     9.966898\n3.376054e+10     9.279434\n3.362632e+10     8.791927\n3.366716e+10     8.744914\n3.366284e+10     6.614270\n3.366469e+10     6.288730\n3.360313e+10     6.287761\n3.366746e+10     5.649882\n3.376041e+10     5.321667\nName: Dur. (ms), dtype: float64"
     },
     "execution_count": 42,
     "metadata": {},
     "output_type": "execute_result"
    }
   ],
   "source": [
    "#top 10 by duration in seconds\n",
    "\n",
    "top_10_duration = user_behavior['Dur. (ms)'].nlargest(10)\n",
    "top_10_duration_seconds = top_10_duration / 1000\n",
    "top_10_duration_seconds"
   ],
   "metadata": {
    "collapsed": false,
    "ExecuteTime": {
     "end_time": "2023-12-16T11:34:03.170602217Z",
     "start_time": "2023-12-16T11:34:03.139030655Z"
    }
   },
   "id": "ecd1b57db180010a"
  },
  {
   "cell_type": "code",
   "execution_count": 44,
   "outputs": [
    {
     "data": {
      "text/plain": "MSISDN/Number\n3.361489e+10    7778.876775\n3.376054e+10    7449.431784\n3.362578e+10    7410.090773\n3.367588e+10    6970.922295\n3.362632e+10    6963.268795\n3.365973e+10    6753.542387\n3.366646e+10    6583.633387\n3.376041e+10    6304.599403\n3.366471e+10    6104.253535\n3.369879e+10    5732.112905\nName: Total DL (Bytes), dtype: float64"
     },
     "execution_count": 44,
     "metadata": {},
     "output_type": "execute_result"
    }
   ],
   "source": [
    "#top 10 by download in MB\n",
    "\n",
    "top_10_download = user_behavior['Total DL (Bytes)'].nlargest(10)\n",
    "top_10_download /= (1024 * 1024)\n",
    "top_10_download"
   ],
   "metadata": {
    "collapsed": false,
    "ExecuteTime": {
     "end_time": "2023-12-16T11:34:44.384133001Z",
     "start_time": "2023-12-16T11:34:44.341704131Z"
    }
   },
   "id": "3297f031f0727841"
  },
  {
   "cell_type": "code",
   "execution_count": 46,
   "outputs": [
    {
     "data": {
      "text/plain": "Bearer Id                                      991\nStart                                            1\nStart ms                                         1\nEnd                                              1\nEnd ms                                           1\nDur. (ms)                                        1\nIMSI                                           570\nMSISDN/Number                                 1066\nIMEI                                           572\nLast Location Name                            1153\nAvg RTT DL (ms)                              27829\nAvg RTT UL (ms)                              27812\nAvg Bearer TP DL (kbps)                          1\nAvg Bearer TP UL (kbps)                          1\nTCP DL Retrans. Vol (Bytes)                  88146\nTCP UL Retrans. Vol (Bytes)                  96649\nDL TP < 50 Kbps (%)                            754\n50 Kbps < DL TP < 250 Kbps (%)                 754\n250 Kbps < DL TP < 1 Mbps (%)                  754\nDL TP > 1 Mbps (%)                             754\nUL TP < 10 Kbps (%)                            792\n10 Kbps < UL TP < 50 Kbps (%)                  792\n50 Kbps < UL TP < 300 Kbps (%)                 792\nUL TP > 300 Kbps (%)                           792\nHTTP DL (Bytes)                              81474\nHTTP UL (Bytes)                              81810\nActivity Duration DL (ms)                        1\nActivity Duration UL (ms)                        1\nDur. (ms).1                                      1\nHandset Manufacturer                           572\nHandset Type                                   572\nNb of sec with 125000B < Vol DL              97538\nNb of sec with 1250B < Vol UL < 6250B        92894\nNb of sec with 31250B < Vol DL < 125000B     93586\nNb of sec with 37500B < Vol UL              130254\nNb of sec with 6250B < Vol DL < 31250B       88317\nNb of sec with 6250B < Vol UL < 37500B      111843\nNb of sec with Vol DL < 6250B                  755\nNb of sec with Vol UL < 1250B                  793\nSocial Media DL (Bytes)                          0\nSocial Media UL (Bytes)                          0\nGoogle DL (Bytes)                                0\nGoogle UL (Bytes)                                0\nEmail DL (Bytes)                                 0\nEmail UL (Bytes)                                 0\nYoutube DL (Bytes)                               0\nYoutube UL (Bytes)                               0\nNetflix DL (Bytes)                               0\nNetflix UL (Bytes)                               0\nGaming DL (Bytes)                                0\nGaming UL (Bytes)                                0\nOther DL (Bytes)                                 0\nOther UL (Bytes)                                 0\nTotal UL (Bytes)                                 1\nTotal DL (Bytes)                                 1\ndtype: int64"
     },
     "execution_count": 46,
     "metadata": {},
     "output_type": "execute_result"
    }
   ],
   "source": [
    "missing_values = df.isnull().sum()\n",
    "missing_values"
   ],
   "metadata": {
    "collapsed": false,
    "ExecuteTime": {
     "end_time": "2023-12-16T12:25:27.596908859Z",
     "start_time": "2023-12-16T12:25:27.534153635Z"
    }
   },
   "id": "ce7af71c68fd8910"
  },
  {
   "cell_type": "code",
   "execution_count": 47,
   "outputs": [
    {
     "name": "stdout",
     "output_type": "stream",
     "text": [
      "<class 'pandas.core.frame.DataFrame'>\n",
      "RangeIndex: 150001 entries, 0 to 150000\n",
      "Data columns (total 55 columns):\n",
      " #   Column                                    Non-Null Count   Dtype  \n",
      "---  ------                                    --------------   -----  \n",
      " 0   Bearer Id                                 149010 non-null  float64\n",
      " 1   Start                                     150000 non-null  object \n",
      " 2   Start ms                                  150000 non-null  float64\n",
      " 3   End                                       150000 non-null  object \n",
      " 4   End ms                                    150000 non-null  float64\n",
      " 5   Dur. (ms)                                 150000 non-null  float64\n",
      " 6   IMSI                                      149431 non-null  float64\n",
      " 7   MSISDN/Number                             148935 non-null  float64\n",
      " 8   IMEI                                      149429 non-null  float64\n",
      " 9   Last Location Name                        148848 non-null  object \n",
      " 10  Avg RTT DL (ms)                           122172 non-null  float64\n",
      " 11  Avg RTT UL (ms)                           122189 non-null  float64\n",
      " 12  Avg Bearer TP DL (kbps)                   150000 non-null  float64\n",
      " 13  Avg Bearer TP UL (kbps)                   150000 non-null  float64\n",
      " 14  TCP DL Retrans. Vol (Bytes)               61855 non-null   float64\n",
      " 15  TCP UL Retrans. Vol (Bytes)               53352 non-null   float64\n",
      " 16  DL TP < 50 Kbps (%)                       149247 non-null  float64\n",
      " 17  50 Kbps < DL TP < 250 Kbps (%)            149247 non-null  float64\n",
      " 18  250 Kbps < DL TP < 1 Mbps (%)             149247 non-null  float64\n",
      " 19  DL TP > 1 Mbps (%)                        149247 non-null  float64\n",
      " 20  UL TP < 10 Kbps (%)                       149209 non-null  float64\n",
      " 21  10 Kbps < UL TP < 50 Kbps (%)             149209 non-null  float64\n",
      " 22  50 Kbps < UL TP < 300 Kbps (%)            149209 non-null  float64\n",
      " 23  UL TP > 300 Kbps (%)                      149209 non-null  float64\n",
      " 24  HTTP DL (Bytes)                           68527 non-null   float64\n",
      " 25  HTTP UL (Bytes)                           68191 non-null   float64\n",
      " 26  Activity Duration DL (ms)                 150000 non-null  float64\n",
      " 27  Activity Duration UL (ms)                 150000 non-null  float64\n",
      " 28  Dur. (ms).1                               150000 non-null  float64\n",
      " 29  Handset Manufacturer                      149429 non-null  object \n",
      " 30  Handset Type                              149429 non-null  object \n",
      " 31  Nb of sec with 125000B < Vol DL           52463 non-null   float64\n",
      " 32  Nb of sec with 1250B < Vol UL < 6250B     57107 non-null   float64\n",
      " 33  Nb of sec with 31250B < Vol DL < 125000B  56415 non-null   float64\n",
      " 34  Nb of sec with 37500B < Vol UL            19747 non-null   float64\n",
      " 35  Nb of sec with 6250B < Vol DL < 31250B    61684 non-null   float64\n",
      " 36  Nb of sec with 6250B < Vol UL < 37500B    38158 non-null   float64\n",
      " 37  Nb of sec with Vol DL < 6250B             149246 non-null  float64\n",
      " 38  Nb of sec with Vol UL < 1250B             149208 non-null  float64\n",
      " 39  Social Media DL (Bytes)                   150001 non-null  float64\n",
      " 40  Social Media UL (Bytes)                   150001 non-null  float64\n",
      " 41  Google DL (Bytes)                         150001 non-null  float64\n",
      " 42  Google UL (Bytes)                         150001 non-null  float64\n",
      " 43  Email DL (Bytes)                          150001 non-null  float64\n",
      " 44  Email UL (Bytes)                          150001 non-null  float64\n",
      " 45  Youtube DL (Bytes)                        150001 non-null  float64\n",
      " 46  Youtube UL (Bytes)                        150001 non-null  float64\n",
      " 47  Netflix DL (Bytes)                        150001 non-null  float64\n",
      " 48  Netflix UL (Bytes)                        150001 non-null  float64\n",
      " 49  Gaming DL (Bytes)                         150001 non-null  float64\n",
      " 50  Gaming UL (Bytes)                         150001 non-null  float64\n",
      " 51  Other DL (Bytes)                          150001 non-null  float64\n",
      " 52  Other UL (Bytes)                          150001 non-null  float64\n",
      " 53  Total UL (Bytes)                          150000 non-null  float64\n",
      " 54  Total DL (Bytes)                          150000 non-null  float64\n",
      "dtypes: float64(50), object(5)\n",
      "memory usage: 62.9+ MB\n"
     ]
    }
   ],
   "source": [
    "df.info()\n"
   ],
   "metadata": {
    "collapsed": false,
    "ExecuteTime": {
     "end_time": "2023-12-16T12:26:29.381452246Z",
     "start_time": "2023-12-16T12:26:29.302999057Z"
    }
   },
   "id": "37343ac4a2b058b8"
  },
  {
   "cell_type": "code",
   "execution_count": 50,
   "outputs": [],
   "source": [
    "#for all the missing values, if they are float, replace the missing values with the mean of the column's values\n",
    "\n",
    "for column in df.columns:\n",
    "    if df[column].dtype == 'float64' and df[column].isnull().any():\n",
    "        mean_value = df[column].mean()\n",
    "        df[column].fillna(mean_value, inplace=True)\n"
   ],
   "metadata": {
    "collapsed": false,
    "ExecuteTime": {
     "end_time": "2023-12-16T12:32:26.493268433Z",
     "start_time": "2023-12-16T12:32:26.426305870Z"
    }
   },
   "id": "653c9d7435de50bf"
  },
  {
   "cell_type": "code",
   "execution_count": 51,
   "outputs": [
    {
     "data": {
      "text/plain": "Bearer Id                                      0\nStart                                          1\nStart ms                                       0\nEnd                                            1\nEnd ms                                         0\nDur. (ms)                                      0\nIMSI                                           0\nMSISDN/Number                                  0\nIMEI                                           0\nLast Location Name                          1153\nAvg RTT DL (ms)                                0\nAvg RTT UL (ms)                                0\nAvg Bearer TP DL (kbps)                        0\nAvg Bearer TP UL (kbps)                        0\nTCP DL Retrans. Vol (Bytes)                    0\nTCP UL Retrans. Vol (Bytes)                    0\nDL TP < 50 Kbps (%)                            0\n50 Kbps < DL TP < 250 Kbps (%)                 0\n250 Kbps < DL TP < 1 Mbps (%)                  0\nDL TP > 1 Mbps (%)                             0\nUL TP < 10 Kbps (%)                            0\n10 Kbps < UL TP < 50 Kbps (%)                  0\n50 Kbps < UL TP < 300 Kbps (%)                 0\nUL TP > 300 Kbps (%)                           0\nHTTP DL (Bytes)                                0\nHTTP UL (Bytes)                                0\nActivity Duration DL (ms)                      0\nActivity Duration UL (ms)                      0\nDur. (ms).1                                    0\nHandset Manufacturer                         572\nHandset Type                                 572\nNb of sec with 125000B < Vol DL                0\nNb of sec with 1250B < Vol UL < 6250B          0\nNb of sec with 31250B < Vol DL < 125000B       0\nNb of sec with 37500B < Vol UL                 0\nNb of sec with 6250B < Vol DL < 31250B         0\nNb of sec with 6250B < Vol UL < 37500B         0\nNb of sec with Vol DL < 6250B                  0\nNb of sec with Vol UL < 1250B                  0\nSocial Media DL (Bytes)                        0\nSocial Media UL (Bytes)                        0\nGoogle DL (Bytes)                              0\nGoogle UL (Bytes)                              0\nEmail DL (Bytes)                               0\nEmail UL (Bytes)                               0\nYoutube DL (Bytes)                             0\nYoutube UL (Bytes)                             0\nNetflix DL (Bytes)                             0\nNetflix UL (Bytes)                             0\nGaming DL (Bytes)                              0\nGaming UL (Bytes)                              0\nOther DL (Bytes)                               0\nOther UL (Bytes)                               0\nTotal UL (Bytes)                               0\nTotal DL (Bytes)                               0\ndtype: int64"
     },
     "execution_count": 51,
     "metadata": {},
     "output_type": "execute_result"
    }
   ],
   "source": [
    "df.isnull().sum()"
   ],
   "metadata": {
    "collapsed": false,
    "ExecuteTime": {
     "end_time": "2023-12-16T12:32:39.397911715Z",
     "start_time": "2023-12-16T12:32:39.342745517Z"
    }
   },
   "id": "d4bd4a0bb0131fee"
  },
  {
   "cell_type": "markdown",
   "source": [
    "### Detect Outliers\n",
    "\n",
    "I will now try to detect outliers automatically by setting a threshold. And automatically filtering out columns with outliers.\n",
    "\n",
    "I will set the threshold to 3. Which means values which defer from the mean value by a standard deviation of 3 will be considered as outliers or anomaly."
   ],
   "metadata": {
    "collapsed": false
   },
   "id": "e18735b03efc052c"
  },
  {
   "cell_type": "code",
   "execution_count": 73,
   "outputs": [],
   "source": [
    "threshold = 30\n",
    "\n",
    "cols_with_outliers = []\n",
    "\n",
    "for col in df.columns:\n",
    "    if df[col].dtype in ['int64', 'float64']:\n",
    "        mean = df[col].mean()\n",
    "        std = df[col].std()\n",
    "        outliers = df[(df[col] - mean).abs() > threshold * std]\n",
    "        \n",
    "        \n",
    "        if len(outliers) > 0:\n",
    "            cols_with_outliers.append(col)"
   ],
   "metadata": {
    "collapsed": false,
    "ExecuteTime": {
     "end_time": "2023-12-16T12:51:19.127524210Z",
     "start_time": "2023-12-16T12:51:19.021702767Z"
    }
   },
   "id": "f9c41e7c8f9a6ed1"
  },
  {
   "cell_type": "code",
   "execution_count": 74,
   "outputs": [
    {
     "name": "stdout",
     "output_type": "stream",
     "text": [
      "Potential columns with outliers:  ['IMSI', 'MSISDN/Number', 'Avg RTT DL (ms)', 'Avg RTT UL (ms)', 'TCP DL Retrans. Vol (Bytes)', 'TCP UL Retrans. Vol (Bytes)', '10 Kbps < UL TP < 50 Kbps (%)', '50 Kbps < UL TP < 300 Kbps (%)', 'UL TP > 300 Kbps (%)', 'HTTP DL (Bytes)', 'HTTP UL (Bytes)', 'Activity Duration UL (ms)', 'Nb of sec with 125000B < Vol DL', 'Nb of sec with 1250B < Vol UL < 6250B', 'Nb of sec with 31250B < Vol DL < 125000B', 'Nb of sec with 37500B < Vol UL', 'Nb of sec with 6250B < Vol DL < 31250B', 'Nb of sec with 6250B < Vol UL < 37500B', 'Nb of sec with Vol DL < 6250B', 'Nb of sec with Vol UL < 1250B']\n",
      "20\n"
     ]
    }
   ],
   "source": [
    "print('Potential columns with outliers: ', cols_with_outliers)\n",
    "print(len(cols_with_outliers))"
   ],
   "metadata": {
    "collapsed": false,
    "ExecuteTime": {
     "end_time": "2023-12-16T12:51:20.012664574Z",
     "start_time": "2023-12-16T12:51:19.913395980Z"
    }
   },
   "id": "c2b5e8101095db4d"
  },
  {
   "cell_type": "markdown",
   "source": [
    "Woops Looks like we have 31 columns with outliers. Lets try a different number\n",
    "\n",
    "The lower the threshold the lower the chance of detecting outliers. So lets try a bigger number\n",
    "With a standard deviation of 30 we have 20 columns. Let me try and plot some of the columns"
   ],
   "metadata": {
    "collapsed": false
   },
   "id": "718a1c0267adb520"
  },
  {
   "cell_type": "code",
   "execution_count": 76,
   "outputs": [
    {
     "data": {
      "text/plain": "<Figure size 800x600 with 1 Axes>",
      "image/png": "[encoded data removed]"
     },
     "metadata": {},
     "output_type": "display_data"
    }
   ],
   "source": [
    "import matplotlib.pyplot as plt\n",
    "\n",
    "plt.figure(figsize=(8,6))\n",
    "\n",
    "plt.hist(df['Activity Duration UL (ms)'], bins = 20, color='skyblue', edgecolor='black')\n",
    "plt.xlabel('Activity Duration UL (ms)')\n",
    "plt.ylabel('Number')\n",
    "plt.show()"
   ],
   "metadata": {
    "collapsed": false,
    "ExecuteTime": {
     "end_time": "2023-12-16T13:01:47.816447595Z",
     "start_time": "2023-12-16T13:01:47.619610135Z"
    }
   },
   "id": "7a48a528651eca93"
  },
  {
   "cell_type": "code",
   "execution_count": 80,
   "outputs": [
    {
     "data": {
      "text/plain": "count    1.500010e+05\nmean     1.408880e+06\nstd      4.643215e+06\nmin      0.000000e+00\n25%      2.154000e+04\n50%      4.679400e+04\n75%      5.991140e+05\nmax      1.449113e+08\nName: Activity Duration UL (ms), dtype: float64"
     },
     "execution_count": 80,
     "metadata": {},
     "output_type": "execute_result"
    }
   ],
   "source": [
    "df['Activity Duration UL (ms)'].describe()"
   ],
   "metadata": {
    "collapsed": false,
    "ExecuteTime": {
     "end_time": "2023-12-16T13:02:57.706210193Z",
     "start_time": "2023-12-16T13:02:57.673127302Z"
    }
   },
   "id": "d0cd755a8a410b56"
  },
  {
   "cell_type": "markdown",
   "source": [
    "Okay in this context\n",
    "outliers are values that lie significantly beyond the range of the majority of the data.\n",
    "The maximum value is much larger than the 75th percentile (third quartile), which indicates the presence of potential outliers.\n",
    "In this case, values much larger than the upper quartile plus 1.5 times the interquartile range (IQR) are outliers.\n",
    "SO we calculate the IQR as the difference between the 75th percentile (Q3) and the 25th percentile (Q1), then find the threshold for outliers as Q3 + 1.5 * IQR."
   ],
   "metadata": {
    "collapsed": false
   },
   "id": "bdcff4bf26585fbc"
  },
  {
   "cell_type": "code",
   "execution_count": null,
   "outputs": [],
   "source": [],
   "metadata": {
    "collapsed": false
   },
   "id": "703dd6ab46c72815"
  }
 ],
 "metadata": {
  "kernelspec": {
   "display_name": "Python 3 (ipykernel)",
   "language": "python",
   "name": "python3"
  },
  "language_info": {
   "codemirror_mode": {
    "name": "ipython",
    "version": 3
   },
   "file_extension": ".py",
   "mimetype": "text/x-python",
   "name": "python",
   "nbconvert_exporter": "python",
   "pygments_lexer": "ipython3",
   "version": "3.11.5"
  }
 },
 "nbformat": 4,
 "nbformat_minor": 5
}
